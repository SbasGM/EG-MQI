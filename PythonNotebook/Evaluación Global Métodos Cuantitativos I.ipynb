{
 "cells": [
  {
   "cell_type": "markdown",
   "metadata": {},
   "source": [
    "# Correlación entre el porcentaje de crecimiento de la población y el porcentaje de crecimiento de las áreas urbanas en los municipios de Oaxaca. Estudio de caso segun los datos del censo nacional de población y vivienda de 2010 y 2020."
   ]
  },
  {
   "cell_type": "markdown",
   "metadata": {},
   "source": [
    "### 1. Introducción\n",
    "\n",
    "Este trabajo busca averiguar a través de un estudio de caso si el aumento en la población tiene una relación con el cambio en el área urbana en los municipios del estado de Oaxaca comparando los datos del censo nacional de población y vivienda de 2010 y 2020 y sus marcos geo-estadísticos correspondientes, con el fin de llegar a crear un modelo estadístico que sintetice esta información.\n",
    "\n",
    "Según datos de la CONAPO (2020) la tasa de crecimiento natural de México en 2020 es de 1.08%, y esta tendencia positiva se ha mantenido durante la historia contemporánea del país. Esto nos lleva a preguntarnos qué otras variables podrían estar relacionadas a este crecimiento poblacional, es decir, qué otros fenómenos podemos llegar a explicar a través del crecimiento de la población.\n",
    "\n",
    "Por otro lado, el crecimiento del área urbana en México es una de las variables que ha estado siempre relacionada al aumento poblacional, puesto que durante las pasadas décadas el país ha sufrido una transformación estructural que movilizó a muchas poblaciones rurales a las ciudades por todo el territorio nacional. El abandono del campo y la crisis del mundo rural en México son temas relevantes en el panorama actual del país. Según datos del Banco Mundial (2019), el crecimiento de la población urbana en 2019 en México fue de 1.45% y aunque ha ido en decremento con respecto a décadas anteriores se mantiene en números positivos.\n",
    "\n",
    "Estos dos datos nos dan ya un buen número de posibles preguntas, pero en concreto mi interés está en saber si el crecimiento del área urbana depende del crecimiento de la población.\n",
    "\n",
    "#### 1.1. Hipótesis\n",
    "\n",
    "Por lo explicado anteriormente, mi hipótesis es que existe una correlación lineal entre el crecimiento de la población y el cambio en el área urbana. Donde la variable independiente es el crecimiento poblacional y la variable independientes es el cambio en el area urbana.\n",
    "\n",
    "#### 1.2. Objetivos y preguntas de investigación\n",
    "\n",
    "El objetivo de este trabajo es aplicar los conocimientos obtenidos durante curso de Métodos Cuantitativos de la UAM-I, a un caso de estudio concreto y real -el de el Estado de Oaxaca- que permita reforzar el conocimiento adquirido y demostrar la capacidad de diseño y realización de un ejercicio de investigación.\n",
    "\n",
    "En este trabajo aplicaremos estos temas a un ejercicio que intenta responder las siguientes preguntas: ¿Qué relación existe entre el crecimiento de la población y el crecimiento del área urbana? ¿Existe una correlación lineal entre estas dos variables? Y sí existiera esta relación ¿Podemos crear un modelo que prediga el cambio?\n",
    "\n",
    "#### 1.3. Metodología\n",
    "\n",
    "Para determinar si esta correlación existe o no haremos uso de herramientas estadísticas y geográficas que nos permitan explorar nuestros datos y hacer los cálculos correspondientes.\n",
    "\n",
    "El trabajo constará de diversas fases que nos llevarán a la comprobación de la hipótesis:\n",
    "\n",
    "* Obtención de los datos de la página oficial de INEGI.\n",
    "\n",
    "* Creación de la muestra a partir de los datos de nuestro caso de estudio.\n",
    "\n",
    "* Análisis exploratorio de los datos extraídos de las fuentes oficiales.\n",
    "\n",
    "* Construcción del DataFrame con los datos necesarios para comprobar si hay correlación entre variables\n",
    "\n",
    "* Transformación de ambas variables en porcentajes calculando el cambio con respecto al 2010 usando los nuevos datos de 2020\n",
    "\n",
    "* Análisis exploratorio del nuevo DataFrame.\n",
    "\n",
    "* Cálculo del coeficiente de correlación de Pearson entre ambas variables.\n",
    "\n",
    "* Construcción de un modelo de regresión lineal que sea capaz de predecir el cambio de una variable conforme a otra.\n",
    "\n",
    "* Medición del error del modelo para saber sí este es válido o no.\n",
    "\n",
    "### 2. Procedimiento\n",
    "\n",
    "#### 2.1. Exploración y obtención de los datos disponibles, construcción de la muestra y preparación del ambiente de trabajo.\n",
    "\n",
    "Los datos con los que he decidido trabajar y en parte los que me motivaron a realizar este trabajo en particular son los nuevos datos del censo nacional de población y vivienda de 2020 recientemente publicados por INEGI, los cuales son accesibles a traves de su portal web. (INEGI, 2010; 2021)\n",
    "\n",
    "Para nuestro caso en especifico utilizamos los datos ligados al censo del marco geo-estadístico nacional de 2020 y 2010 ya que nos proporcionan los polígonos del área que INEGI considera como urbana por municipio (INEGI, 2010; 2021).\n",
    "\n",
    "Los datos de población obtenidos se encuentran en formato CSV y los del marco geo-estadístico en formato SHP, por lo que es importante pasarlos ambos a el mismo formato para que estos sean mas accesibles para este trabajo. En este caso decidí usar una base de datos de tipo GeoPackage, la cual tiene la ventaja de estar construida sobre una base relacional de tipo SQLite. De este modo, esta es fácilmente modificable y se puede compartir rápidamente, además de admitir datos geográficos, lo que posibilita la unión de las tablas CSV de los censos con los SHP's del marco geo-estadístico.\n",
    "\n",
    "##### 2.1.1. Exploración de los datos disponibles del censo de 2010 y 2020.\n",
    "\n",
    "Una vez descargados los datos y unido las tablas CSV a una capa vectorial de municipios, exploramos los datos para ver si estos están completos y comenzar a inferir si nos permitirán responder a las preguntas de investigación.\n",
    "\n",
    "Esta primera exploración la realizamos de forma visual con el uso de el programa QGIS, con el que se pudo comprobar de forma rápida si existía una diferencia entre las áreas urbanas de 2010 y las de 2020.\n",
    "\n",
    "Una vez obtenidos los datos y uniformizados los formatos con los cuales vamos a trabajar procedemos a la visualización gráfica de los datos y diseño de la muestra con la que trabajaremos.\n",
    "\n",
    "![Fuente: Elaboración propia](/Users/sebastiangm/OneDrive/Trabajo/UAM/workspace/MQI/Rmarckdown/Mapa Recu.png)\n",
    "\n",
    "##### 2.1.2. Diseño de la muestra\n",
    "\n",
    "Al ser este un estudio de caso nos centraremos en los datos por municipio del estado de Oaxaca, así que para la creación de nuestra muestra  tenemos de seleccionar los datos que cumplan con los siguientes criterios:\n",
    "\n",
    "* Los datos deben ser del área de nuestro caso de estudio, en este caso Oaxaca\n",
    "\n",
    "* Los datos deben hacer referencia a las variables que nos interesan y estar disponibles por municipio\n",
    "\n",
    "* Los datos deben ser comparables entre sí y describir el mismo fenómeno en 2010 que en 2020\n",
    "\n",
    "La muestra de nuestros datos será entonces de 590 registros que hacen referencia a los 590 municipios del estado de Oaxaca separados en las diferentes tablas que se han creado con los datos que descargamos estas son las siguientes:\n",
    "\n",
    "* Archivo vectorial con los datos de población de ambos censos (2010 y 2020) por municipios\n",
    "\n",
    "* Archivo vectorial con los polígonos y el área total urbana por municipio del marco geo-estadístico de 2010\n",
    "\n",
    "* Archivo vectorial con los polígonos y el área total urbana por municipio del marco geo-estadístico de 2020\n",
    "\n",
    "\n",
    "##### 2.1.3. Construcción del ambiente de trabajo\n",
    "\n",
    "**Construcción del ambiente de trabajo**"
   ]
  },
  {
   "cell_type": "code",
   "execution_count": 1,
   "metadata": {},
   "outputs": [],
   "source": [
    "#Version de python 3.9.2, sistema operativo de 64 bits.\n",
    "\n",
    "#.-.-.-.-.-.-.-.-.-.-.-.-.-.-.-.-.-.-.-.-.-.-.-.-.-.-.-.-.-.-.-.-.-.-.-.-.-.-.-.-.-.-.-.-.-.-.-.-.-.-.-.-.-.-.-.-.-.-#\n",
    "\n",
    "#Construcción del ambiente de trabajo\n",
    "\n",
    "#Calculos numericos\n",
    "import pandas as pd\n",
    "import numpy as np\n",
    "import scipy as sc\n",
    "\n",
    "#Preprocesado y modelado\n",
    "from scipy.stats import pearsonr\n",
    "from sklearn.linear_model import LinearRegression\n",
    "from sklearn.model_selection import train_test_split\n",
    "from sklearn.metrics import r2_score\n",
    "from sklearn.metrics import mean_squared_error\n",
    "\n",
    "#Graficos\n",
    "import matplotlib.pyplot as plt\n",
    "from matplotlib import style\n",
    "from pandas.plotting import scatter_matrix\n",
    "\n",
    "#Conectar a base de datos\n",
    "import sqlalchemy\n",
    "import psycopg2\n",
    "from sqlalchemy import create_engine\n",
    "\n",
    "#Configurar plots\n",
    "plt.rcParams['image.cmap'] = \"bwr\"\n",
    "plt.rcParams['figure.dpi'] = \"100\"\n",
    "plt.rcParams['savefig.bbox'] = \"tight\"\n",
    "style.use('ggplot') or plt.style.use('ggplot')"
   ]
  },
  {
   "cell_type": "code",
   "execution_count": 2,
   "metadata": {},
   "outputs": [],
   "source": [
    "%matplotlib inline"
   ]
  },
  {
   "cell_type": "markdown",
   "metadata": {},
   "source": [
    "**Conexión a la base de datos sqlite dentro del GeoPackage**"
   ]
  },
  {
   "cell_type": "code",
   "execution_count": 3,
   "metadata": {},
   "outputs": [],
   "source": [
    "#Datos dirección, puerto, usuario, contraseña, nombre de la base de datos\n",
    "POSTGRES_ADDRESS = 'localhost'\n",
    "POSTGRES_PORT = '5432'\n",
    "POSTGRES_USERNAME = 'postgres'\n",
    "POSTGRES_PASSWORD = '2892'\n",
    "POSTGRES_DBNAME = 'postgres'\n",
    "\n",
    "#Conexión a la base de datos local de postgreSQL\n",
    "postgres_str = ('postgresql://{username}:{password}@{ipaddress}:{port}/{dbname}'\n",
    "                .format(username = POSTGRES_USERNAME,\n",
    "                password = POSTGRES_PASSWORD,\n",
    "                ipaddress = POSTGRES_ADDRESS,\n",
    "                port = POSTGRES_PORT,\n",
    "                dbname = POSTGRES_DBNAME))\n",
    "\n",
    "cnx = create_engine(postgres_str)"
   ]
  },
  {
   "cell_type": "markdown",
   "metadata": {},
   "source": [
    "#### 2.2. Visualización y exploración de los datos\n",
    "\n",
    "La visualización de datos es una representación gráfica de la información y los datos. Mediante el uso de elementos visuales, como gráficos y mapas, la visualización de datos ofrece una manera accesible para detectar y comprender las tendencias y los patrones en los datos.\n",
    "\n",
    "Es este caso nos interesa saber si la distribución de nuestras variables tiene una forma similar, lo que nos daría un primer indicio de si nuestras variables están correlacionadas o no.\n",
    "\n",
    "**Antes de continuar crearemos algunas funciones útiles para la contrucción de los gráficos**\n",
    "\n",
    "En este caso un función que nos ayudara a determinar el número de columnas que tendran nuestros diagramas de frecuencias.\n",
    "\n",
    "**Función de Sturges:** La regla de Sturges es un método empírico muy utilizado en la estadística descriptiva para determinar el número de clases que deben existir en un histograma de frecuencias, para así poder clasificar un conjunto de datos que representan una muestra o población.\n",
    "\n",
    "\\begin{equation}\n",
    "w = {1 + \\log_{2} n}\n",
    "\\end{equation} "
   ]
  },
  {
   "cell_type": "code",
   "execution_count": 4,
   "metadata": {},
   "outputs": [],
   "source": [
    "#Creamos la una función equivalente a la regla de Sturgen en python para determinar el numero de columnas \n",
    "#que usaremos en nuestros histogramas (el numero de se redondea) \n",
    "def sturgesRule(x):\n",
    "    noBins= round(1+ np.log2(x))\n",
    "    return noBins"
   ]
  },
  {
   "cell_type": "markdown",
   "metadata": {},
   "source": [
    "##### 2.2.1 Datos de población por municipio en Oaxaca del censo nacional (INEGI) de 2010 y 2020\n",
    "\n",
    "**Visualizar los datos necesarios comenzar el análisis de nuestras variables**"
   ]
  },
  {
   "cell_type": "code",
   "execution_count": 5,
   "metadata": {},
   "outputs": [],
   "source": [
    "#Definimos la variable que alojara los datos de la población por municipio del censo de 2010\n",
    "pobMunOax10 = pd.read_sql_query('''SELECT pobtot2010  FROM public.oax_pobtotmun''',cnx)\n",
    "\n",
    "#Definimos la variable que alojara los datos de la población por municipio del censo de 2020\n",
    "pobMunOax20 = pd.read_sql_query('''SELECT pobtot2020 FROM public.oax_pobtotmun''',cnx)\n",
    "\n",
    "#Variable que describe el tamaño de la muestra de pobtot2010\n",
    "tmpobMunOax10 = pobMunOax10.count()\n",
    "\n",
    "#Variable que describe el tamaño de la muestra de pobtot2020\n",
    "tmpobMunOax20 = pobMunOax20.count()"
   ]
  },
  {
   "cell_type": "code",
   "execution_count": 6,
   "metadata": {},
   "outputs": [
    {
     "data": {
      "text/html": [
       "<div>\n",
       "<style scoped>\n",
       "    .dataframe tbody tr th:only-of-type {\n",
       "        vertical-align: middle;\n",
       "    }\n",
       "\n",
       "    .dataframe tbody tr th {\n",
       "        vertical-align: top;\n",
       "    }\n",
       "\n",
       "    .dataframe thead th {\n",
       "        text-align: right;\n",
       "    }\n",
       "</style>\n",
       "<table border=\"1\" class=\"dataframe\">\n",
       "  <thead>\n",
       "    <tr style=\"text-align: right;\">\n",
       "      <th></th>\n",
       "      <th>pobtot2010</th>\n",
       "    </tr>\n",
       "  </thead>\n",
       "  <tbody>\n",
       "    <tr>\n",
       "      <th>0</th>\n",
       "      <td>14667</td>\n",
       "    </tr>\n",
       "    <tr>\n",
       "      <th>1</th>\n",
       "      <td>44885</td>\n",
       "    </tr>\n",
       "    <tr>\n",
       "      <th>2</th>\n",
       "      <td>36564</td>\n",
       "    </tr>\n",
       "    <tr>\n",
       "      <th>3</th>\n",
       "      <td>20584</td>\n",
       "    </tr>\n",
       "    <tr>\n",
       "      <th>4</th>\n",
       "      <td>155766</td>\n",
       "    </tr>\n",
       "  </tbody>\n",
       "</table>\n",
       "</div>"
      ],
      "text/plain": [
       "   pobtot2010\n",
       "0       14667\n",
       "1       44885\n",
       "2       36564\n",
       "3       20584\n",
       "4      155766"
      ]
     },
     "execution_count": 6,
     "metadata": {},
     "output_type": "execute_result"
    }
   ],
   "source": [
    "#Visualizamos la estrutura de la tabla de datos de la población por municipio del censo de 2010\n",
    "pobMunOax10.head()"
   ]
  },
  {
   "cell_type": "code",
   "execution_count": 7,
   "metadata": {},
   "outputs": [
    {
     "data": {
      "text/html": [
       "<div>\n",
       "<style scoped>\n",
       "    .dataframe tbody tr th:only-of-type {\n",
       "        vertical-align: middle;\n",
       "    }\n",
       "\n",
       "    .dataframe tbody tr th {\n",
       "        vertical-align: top;\n",
       "    }\n",
       "\n",
       "    .dataframe thead th {\n",
       "        text-align: right;\n",
       "    }\n",
       "</style>\n",
       "<table border=\"1\" class=\"dataframe\">\n",
       "  <thead>\n",
       "    <tr style=\"text-align: right;\">\n",
       "      <th></th>\n",
       "      <th>pobtot2020</th>\n",
       "    </tr>\n",
       "  </thead>\n",
       "  <tbody>\n",
       "    <tr>\n",
       "      <th>0</th>\n",
       "      <td>14488.0</td>\n",
       "    </tr>\n",
       "    <tr>\n",
       "      <th>1</th>\n",
       "      <td>45167.0</td>\n",
       "    </tr>\n",
       "    <tr>\n",
       "      <th>2</th>\n",
       "      <td>38682.0</td>\n",
       "    </tr>\n",
       "    <tr>\n",
       "      <th>3</th>\n",
       "      <td>21469.0</td>\n",
       "    </tr>\n",
       "    <tr>\n",
       "      <th>4</th>\n",
       "      <td>159452.0</td>\n",
       "    </tr>\n",
       "  </tbody>\n",
       "</table>\n",
       "</div>"
      ],
      "text/plain": [
       "   pobtot2020\n",
       "0     14488.0\n",
       "1     45167.0\n",
       "2     38682.0\n",
       "3     21469.0\n",
       "4    159452.0"
      ]
     },
     "execution_count": 7,
     "metadata": {},
     "output_type": "execute_result"
    }
   ],
   "source": [
    "#Visualizamos la estructura de la tabla de datos de la población por municipio del censo de 2020\n",
    "pobMunOax20.head()"
   ]
  },
  {
   "cell_type": "markdown",
   "metadata": {},
   "source": [
    "**Calculamos los valores estadisticos descriptivos básicos para ambos DataFrames**"
   ]
  },
  {
   "cell_type": "code",
   "execution_count": 8,
   "metadata": {},
   "outputs": [
    {
     "data": {
      "text/html": [
       "<div>\n",
       "<style scoped>\n",
       "    .dataframe tbody tr th:only-of-type {\n",
       "        vertical-align: middle;\n",
       "    }\n",
       "\n",
       "    .dataframe tbody tr th {\n",
       "        vertical-align: top;\n",
       "    }\n",
       "\n",
       "    .dataframe thead th {\n",
       "        text-align: right;\n",
       "    }\n",
       "</style>\n",
       "<table border=\"1\" class=\"dataframe\">\n",
       "  <thead>\n",
       "    <tr style=\"text-align: right;\">\n",
       "      <th></th>\n",
       "      <th>count</th>\n",
       "      <th>mean</th>\n",
       "      <th>std</th>\n",
       "      <th>min</th>\n",
       "      <th>25%</th>\n",
       "      <th>50%</th>\n",
       "      <th>75%</th>\n",
       "      <th>max</th>\n",
       "    </tr>\n",
       "  </thead>\n",
       "  <tbody>\n",
       "    <tr>\n",
       "      <th>pobtot2010</th>\n",
       "      <td>590.0</td>\n",
       "      <td>7238.508475</td>\n",
       "      <td>16514.133095</td>\n",
       "      <td>93.0</td>\n",
       "      <td>1261.25</td>\n",
       "      <td>2798.5</td>\n",
       "      <td>6644.75</td>\n",
       "      <td>263357.0</td>\n",
       "    </tr>\n",
       "  </tbody>\n",
       "</table>\n",
       "</div>"
      ],
      "text/plain": [
       "            count         mean           std   min      25%     50%      75%  \\\n",
       "pobtot2010  590.0  7238.508475  16514.133095  93.0  1261.25  2798.5  6644.75   \n",
       "\n",
       "                 max  \n",
       "pobtot2010  263357.0  "
      ]
     },
     "execution_count": 8,
     "metadata": {},
     "output_type": "execute_result"
    }
   ],
   "source": [
    "#Usamos la función describe() para ver los valores estadísticos descriptivos básicos de los datos de población de 2020\n",
    "pobMunOax10.describe().transpose()"
   ]
  },
  {
   "cell_type": "code",
   "execution_count": 9,
   "metadata": {},
   "outputs": [
    {
     "data": {
      "text/html": [
       "<div>\n",
       "<style scoped>\n",
       "    .dataframe tbody tr th:only-of-type {\n",
       "        vertical-align: middle;\n",
       "    }\n",
       "\n",
       "    .dataframe tbody tr th {\n",
       "        vertical-align: top;\n",
       "    }\n",
       "\n",
       "    .dataframe thead th {\n",
       "        text-align: right;\n",
       "    }\n",
       "</style>\n",
       "<table border=\"1\" class=\"dataframe\">\n",
       "  <thead>\n",
       "    <tr style=\"text-align: right;\">\n",
       "      <th></th>\n",
       "      <th>count</th>\n",
       "      <th>mean</th>\n",
       "      <th>std</th>\n",
       "      <th>min</th>\n",
       "      <th>25%</th>\n",
       "      <th>50%</th>\n",
       "      <th>75%</th>\n",
       "      <th>max</th>\n",
       "    </tr>\n",
       "  </thead>\n",
       "  <tbody>\n",
       "    <tr>\n",
       "      <th>pobtot2020</th>\n",
       "      <td>590.0</td>\n",
       "      <td>7878.742373</td>\n",
       "      <td>17789.863843</td>\n",
       "      <td>81.0</td>\n",
       "      <td>1288.75</td>\n",
       "      <td>2947.0</td>\n",
       "      <td>6710.75</td>\n",
       "      <td>270955.0</td>\n",
       "    </tr>\n",
       "  </tbody>\n",
       "</table>\n",
       "</div>"
      ],
      "text/plain": [
       "            count         mean           std   min      25%     50%      75%  \\\n",
       "pobtot2020  590.0  7878.742373  17789.863843  81.0  1288.75  2947.0  6710.75   \n",
       "\n",
       "                 max  \n",
       "pobtot2020  270955.0  "
      ]
     },
     "execution_count": 9,
     "metadata": {},
     "output_type": "execute_result"
    }
   ],
   "source": [
    "#Usamos la función describe() para ver los valores estadísticos descriptivos básicos de los datos de población de 2020\n",
    "pobMunOax20.describe().transpose()"
   ]
  },
  {
   "cell_type": "markdown",
   "metadata": {},
   "source": [
    "**Uso de la función de Sturges**"
   ]
  },
  {
   "cell_type": "code",
   "execution_count": 10,
   "metadata": {},
   "outputs": [
    {
     "name": "stdout",
     "output_type": "stream",
     "text": [
      "El numero de columnas del histograma de los datos de poblacion de 2010 es:  10\n",
      "El numero de columnas del histograma de los datos de poblacion de 2020 es:  10\n"
     ]
    }
   ],
   "source": [
    "#Utilizamos la función de Sturges para saber el número de bins que debe tener nuestro histograma de frecuencias\n",
    "nb10pob = int(sturgesRule(tmpobMunOax10))\n",
    "print('El numero de columnas del histograma de los datos de poblacion de 2010 es: ',nb10pob)\n",
    "\n",
    "nb20pob = int(sturgesRule(tmpobMunOax20))\n",
    "print('El numero de columnas del histograma de los datos de poblacion de 2020 es: ',nb20pob)"
   ]
  },
  {
   "cell_type": "markdown",
   "metadata": {},
   "source": [
    "**Visualizamos los valores de los datos con histogramas para ver su tipo de distrubición.**"
   ]
  },
  {
   "cell_type": "code",
   "execution_count": 11,
   "metadata": {},
   "outputs": [
    {
     "data": {
      "image/png": "[encoded data removed]",
      "text/plain": [
       "<Figure size 1152x360 with 2 Axes>"
      ]
     },
     "metadata": {
      "needs_background": "light"
     },
     "output_type": "display_data"
    }
   ],
   "source": [
    "#Creamos los histogramas para vizualizar los datos de población de 2010 y 2020 por municipio en oaxaca\n",
    "\n",
    "#Creamos la figura con el tamaño deseado\n",
    "plt.figure(figsize = (16,5))\n",
    "\n",
    "#Creamos el primer subplot\n",
    "plt.subplot(1,2,1)\n",
    "plt.hist(pobMunOax10, bins= nb10pob, color= 'blue',edgecolor= 'grey')\n",
    "plt.title('Población por municipio en Oaxaca 2010', font= 'DIN Condensed', fontsize= '16')\n",
    "plt.xlabel('Población', font= 'DIN Condensed', fontsize= '14')\n",
    "plt.ylabel('Frecuencia', font= 'DIN Condensed', fontsize= '14')\n",
    "plt.grid(True)\n",
    "\n",
    "#Creamos el segundo subplot\n",
    "plt.subplot(1,2,2)\n",
    "plt.hist(pobMunOax20, bins= nb20pob, color= 'black',edgecolor= 'grey')\n",
    "plt.title('Población por municipio en Oaxaca 2020', font= 'DIN Condensed', fontsize= '16')\n",
    "plt.xlabel('Población', font= 'DIN Condensed', fontsize= '14')\n",
    "plt.ylabel('Frecuencia', font= 'DIN Condensed', fontsize= '14')\n",
    "plt.grid(True)\n",
    "\n",
    "plt.show()"
   ]
  },
  {
   "cell_type": "markdown",
   "metadata": {},
   "source": [
    "**Interpretación de los datos de población por municipio de 2010 y 2020**\n",
    "\n",
    "Nuestros gráficos de frecuencias de los datos de 2010 y 2020 muestran un sesgo a la izquierda, por lo que podemos inferir que el grueso de los municipios de Oaxaca tienen poblaciones relativamente pequeñas en comparación a los mas densamente poblados. Esto también lo podemos corroborar al comparar la media con el valor máximo.\n",
    "\n",
    "##### 2.2.2. Datos del área urbana por municipio en Oaxaca del 2010 y 2020 segun el marco geoestadítico nacional"
   ]
  },
  {
   "cell_type": "code",
   "execution_count": 12,
   "metadata": {},
   "outputs": [],
   "source": [
    "#Definimos las varibles del área de los polígonos urbanos de 2010\n",
    "areaUrb10 = pd.read_sql_query('''SELECT cve_mun, SUM(area_ha) AS area_ha FROM area_urb2010 GROUP BY cve_mun''',cnx)\n",
    "#Definimos una variable que solo contenga la columna de area_ha\n",
    "areaHa10 = areaUrb10.iloc[:,1]\n",
    "\n",
    "\n",
    "#Definimos las variables del área de los polígonos urbanos de 2020\n",
    "areaUrb20 = pd.read_sql_query('''SELECT cve_mun, SUM(area_ha) As area_ha FROM area_urb2020 GROUP BY cve_mun''',cnx)\n",
    "#Definimos una variable que solo contenga la columna de area_ha\n",
    "areaHa20 = areaUrb20.iloc[:,1]\n",
    "\n",
    "#Variable que describe el tamaño de la muestra de área 2010\n",
    "tmareaUrb10 = len(areaUrb10)\n",
    "\n",
    "#Variable que describe el tamaño de la muestra de área 2010\n",
    "tmareaUrb20 = len(areaUrb20)"
   ]
  },
  {
   "cell_type": "code",
   "execution_count": 13,
   "metadata": {},
   "outputs": [
    {
     "data": {
      "text/html": [
       "<div>\n",
       "<style scoped>\n",
       "    .dataframe tbody tr th:only-of-type {\n",
       "        vertical-align: middle;\n",
       "    }\n",
       "\n",
       "    .dataframe tbody tr th {\n",
       "        vertical-align: top;\n",
       "    }\n",
       "\n",
       "    .dataframe thead th {\n",
       "        text-align: right;\n",
       "    }\n",
       "</style>\n",
       "<table border=\"1\" class=\"dataframe\">\n",
       "  <thead>\n",
       "    <tr style=\"text-align: right;\">\n",
       "      <th></th>\n",
       "      <th>cve_mun</th>\n",
       "      <th>area_ha</th>\n",
       "    </tr>\n",
       "  </thead>\n",
       "  <tbody>\n",
       "    <tr>\n",
       "      <th>0</th>\n",
       "      <td>537</td>\n",
       "      <td>156.51</td>\n",
       "    </tr>\n",
       "    <tr>\n",
       "      <th>1</th>\n",
       "      <td>354</td>\n",
       "      <td>26.70</td>\n",
       "    </tr>\n",
       "    <tr>\n",
       "      <th>2</th>\n",
       "      <td>497</td>\n",
       "      <td>280.62</td>\n",
       "    </tr>\n",
       "    <tr>\n",
       "      <th>3</th>\n",
       "      <td>551</td>\n",
       "      <td>776.07</td>\n",
       "    </tr>\n",
       "    <tr>\n",
       "      <th>4</th>\n",
       "      <td>065</td>\n",
       "      <td>332.01</td>\n",
       "    </tr>\n",
       "  </tbody>\n",
       "</table>\n",
       "</div>"
      ],
      "text/plain": [
       "  cve_mun  area_ha\n",
       "0     537   156.51\n",
       "1     354    26.70\n",
       "2     497   280.62\n",
       "3     551   776.07\n",
       "4     065   332.01"
      ]
     },
     "execution_count": 13,
     "metadata": {},
     "output_type": "execute_result"
    }
   ],
   "source": [
    "#Visualizamos la estrutura de la tabla del área de los polígonos urbanos de 2010\n",
    "areaUrb10.head()"
   ]
  },
  {
   "cell_type": "code",
   "execution_count": 14,
   "metadata": {},
   "outputs": [
    {
     "data": {
      "text/html": [
       "<div>\n",
       "<style scoped>\n",
       "    .dataframe tbody tr th:only-of-type {\n",
       "        vertical-align: middle;\n",
       "    }\n",
       "\n",
       "    .dataframe tbody tr th {\n",
       "        vertical-align: top;\n",
       "    }\n",
       "\n",
       "    .dataframe thead th {\n",
       "        text-align: right;\n",
       "    }\n",
       "</style>\n",
       "<table border=\"1\" class=\"dataframe\">\n",
       "  <thead>\n",
       "    <tr style=\"text-align: right;\">\n",
       "      <th></th>\n",
       "      <th>cve_mun</th>\n",
       "      <th>area_ha</th>\n",
       "    </tr>\n",
       "  </thead>\n",
       "  <tbody>\n",
       "    <tr>\n",
       "      <th>0</th>\n",
       "      <td>537</td>\n",
       "      <td>179.170476</td>\n",
       "    </tr>\n",
       "    <tr>\n",
       "      <th>1</th>\n",
       "      <td>354</td>\n",
       "      <td>31.710374</td>\n",
       "    </tr>\n",
       "    <tr>\n",
       "      <th>2</th>\n",
       "      <td>497</td>\n",
       "      <td>280.685112</td>\n",
       "    </tr>\n",
       "    <tr>\n",
       "      <th>3</th>\n",
       "      <td>065</td>\n",
       "      <td>345.813458</td>\n",
       "    </tr>\n",
       "    <tr>\n",
       "      <th>4</th>\n",
       "      <td>551</td>\n",
       "      <td>866.360393</td>\n",
       "    </tr>\n",
       "  </tbody>\n",
       "</table>\n",
       "</div>"
      ],
      "text/plain": [
       "  cve_mun     area_ha\n",
       "0     537  179.170476\n",
       "1     354   31.710374\n",
       "2     497  280.685112\n",
       "3     065  345.813458\n",
       "4     551  866.360393"
      ]
     },
     "execution_count": 14,
     "metadata": {},
     "output_type": "execute_result"
    }
   ],
   "source": [
    "#Visualizamos la estrutura de la tabla del área de los polígonos urbanos de 2020\n",
    "areaUrb20.head()"
   ]
  },
  {
   "cell_type": "markdown",
   "metadata": {},
   "source": [
    "**Calculamos los valores estadisticos descriptivos básicos para ambos DataFrames**"
   ]
  },
  {
   "cell_type": "code",
   "execution_count": 15,
   "metadata": {},
   "outputs": [
    {
     "data": {
      "text/html": [
       "<div>\n",
       "<style scoped>\n",
       "    .dataframe tbody tr th:only-of-type {\n",
       "        vertical-align: middle;\n",
       "    }\n",
       "\n",
       "    .dataframe tbody tr th {\n",
       "        vertical-align: top;\n",
       "    }\n",
       "\n",
       "    .dataframe thead th {\n",
       "        text-align: right;\n",
       "    }\n",
       "</style>\n",
       "<table border=\"1\" class=\"dataframe\">\n",
       "  <thead>\n",
       "    <tr style=\"text-align: right;\">\n",
       "      <th></th>\n",
       "      <th>count</th>\n",
       "      <th>mean</th>\n",
       "      <th>std</th>\n",
       "      <th>min</th>\n",
       "      <th>25%</th>\n",
       "      <th>50%</th>\n",
       "      <th>75%</th>\n",
       "      <th>max</th>\n",
       "    </tr>\n",
       "  </thead>\n",
       "  <tbody>\n",
       "    <tr>\n",
       "      <th>area_ha</th>\n",
       "      <td>570.0</td>\n",
       "      <td>230.470263</td>\n",
       "      <td>381.536179</td>\n",
       "      <td>9.68</td>\n",
       "      <td>72.635</td>\n",
       "      <td>125.16</td>\n",
       "      <td>228.7075</td>\n",
       "      <td>4664.76</td>\n",
       "    </tr>\n",
       "  </tbody>\n",
       "</table>\n",
       "</div>"
      ],
      "text/plain": [
       "         count        mean         std   min     25%     50%       75%  \\\n",
       "area_ha  570.0  230.470263  381.536179  9.68  72.635  125.16  228.7075   \n",
       "\n",
       "             max  \n",
       "area_ha  4664.76  "
      ]
     },
     "execution_count": 15,
     "metadata": {},
     "output_type": "execute_result"
    }
   ],
   "source": [
    "#Describimos los valores estadísticos básicos de la tabla de área urbana por municipio en 2010\n",
    "areaUrb10.describe().transpose()"
   ]
  },
  {
   "cell_type": "code",
   "execution_count": 16,
   "metadata": {},
   "outputs": [
    {
     "data": {
      "text/html": [
       "<div>\n",
       "<style scoped>\n",
       "    .dataframe tbody tr th:only-of-type {\n",
       "        vertical-align: middle;\n",
       "    }\n",
       "\n",
       "    .dataframe tbody tr th {\n",
       "        vertical-align: top;\n",
       "    }\n",
       "\n",
       "    .dataframe thead th {\n",
       "        text-align: right;\n",
       "    }\n",
       "</style>\n",
       "<table border=\"1\" class=\"dataframe\">\n",
       "  <thead>\n",
       "    <tr style=\"text-align: right;\">\n",
       "      <th></th>\n",
       "      <th>count</th>\n",
       "      <th>mean</th>\n",
       "      <th>std</th>\n",
       "      <th>min</th>\n",
       "      <th>25%</th>\n",
       "      <th>50%</th>\n",
       "      <th>75%</th>\n",
       "      <th>max</th>\n",
       "    </tr>\n",
       "  </thead>\n",
       "  <tbody>\n",
       "    <tr>\n",
       "      <th>area_ha</th>\n",
       "      <td>570.0</td>\n",
       "      <td>250.605427</td>\n",
       "      <td>397.709808</td>\n",
       "      <td>9.680185</td>\n",
       "      <td>80.688598</td>\n",
       "      <td>144.088434</td>\n",
       "      <td>252.967779</td>\n",
       "      <td>4870.043746</td>\n",
       "    </tr>\n",
       "  </tbody>\n",
       "</table>\n",
       "</div>"
      ],
      "text/plain": [
       "         count        mean         std       min        25%         50%  \\\n",
       "area_ha  570.0  250.605427  397.709808  9.680185  80.688598  144.088434   \n",
       "\n",
       "                75%          max  \n",
       "area_ha  252.967779  4870.043746  "
      ]
     },
     "execution_count": 16,
     "metadata": {},
     "output_type": "execute_result"
    }
   ],
   "source": [
    "#Describimos los valores estadísticos básicos de la tabla de área urbana por municipio en 2020\n",
    "areaUrb20.describe().transpose()\n"
   ]
  },
  {
   "cell_type": "markdown",
   "metadata": {},
   "source": [
    "**Uso de la función de Sturges**"
   ]
  },
  {
   "cell_type": "code",
   "execution_count": 17,
   "metadata": {},
   "outputs": [
    {
     "name": "stdout",
     "output_type": "stream",
     "text": [
      "El número de columnas del histograma de los datos de población de 2010 es:  10\n",
      "El número de columnas del histograma de los datos de población de 2020 es:  10\n"
     ]
    }
   ],
   "source": [
    "#Utilizamos la función de Sturges para saber el numero de columnas que debe tener nuestro histograma de frecuencias\n",
    "nb10area = int(sturgesRule(tmareaUrb10))\n",
    "print('El número de columnas del histograma de los datos de población de 2010 es: ',nb10area)\n",
    "\n",
    "nb20area = int(sturgesRule(tmareaUrb20))\n",
    "print('El número de columnas del histograma de los datos de población de 2020 es: ',nb20area)"
   ]
  },
  {
   "cell_type": "markdown",
   "metadata": {},
   "source": [
    "**Visualizamos los valores de los datos con histogramas para ver su tipo de distribución.**"
   ]
  },
  {
   "cell_type": "code",
   "execution_count": 18,
   "metadata": {},
   "outputs": [
    {
     "data": {
      "image/png": "[encoded data removed]",
      "text/plain": [
       "<Figure size 1152x360 with 2 Axes>"
      ]
     },
     "metadata": {
      "needs_background": "light"
     },
     "output_type": "display_data"
    }
   ],
   "source": [
    "#Creamos los histogramas para vizualizar los datos de área urbana de 2010 y 2020 por municipio en Oaxaca\n",
    "#Creamos la figura con el tamaño deseado\n",
    "plt.figure(figsize = (16,5))\n",
    "\n",
    "#Creación del primer subplot\n",
    "plt.subplot(1,2,1)\n",
    "plt.hist(areaHa10, bins= nb10area, color= 'blue',edgecolor= 'grey')\n",
    "plt.title('Área urbana por municipio en Oaxaca 2010', font= 'DIN Condensed', fontsize= '16')\n",
    "plt.xlabel('Área en Ha', font= 'DIN Condensed', fontsize= '14')\n",
    "plt.ylabel('Frecuencia', font= 'DIN Condensed', fontsize= '14')\n",
    "plt.grid(True) \n",
    "\n",
    "#Creación del segundo subplot\n",
    "plt.subplot(1,2,2)\n",
    "plt.hist(areaHa20, bins= nb20area, color= 'black',edgecolor= 'grey')\n",
    "plt.title('Área urbana por municipio en Oaxaca 2020', font= 'DIN Condensed', fontsize= '16')\n",
    "plt.xlabel('Área en Ha', font= 'DIN Condensed', fontsize= '14')\n",
    "plt.ylabel('Frecuencia', font= 'DIN Condensed', fontsize= '14')\n",
    "plt.grid(True)\n",
    "\n",
    "plt.show()"
   ]
  },
  {
   "cell_type": "markdown",
   "metadata": {},
   "source": [
    "**Interpretación de los datos de población total por municipio en Oaxaca 2010 y 2020**\n",
    "\n",
    "Como ya sucedio en los gráficos de frecuencias de las variables anteriores los datos del área urbana también estan segados a la izquierda, esto nos demuestra que hay un corportamiento similar entre nuestras dos variables. En ambos casos la mayoría de los municipios tienes valores bajos en relación al máximo. Ahora queda por preguntarnos sí el crecimiento de amabas variables también tiene un conportamiento similar.\n",
    "\n",
    "#### 2.3. Creación de los DataFrame necesario para el análisis\n",
    "\n",
    "Para comenzar esta parte del ejercicio y responder a nuestras preguntas de investigación debemos crear un DataFrame que en dos variables contenga el cambio población de 2010 a 2020 y las relaciones con el cambio en el área urbana por municipio.\n",
    "\n",
    "Para poder comparar de mejor manera estas variables las dos las transformaremos a porcentajes, que describirán el cambio ocurrido de los datos de 2010 a 2020. Con este cambio podremos responder de mejor manera si existe una relación entre el crecimiento de la población (%) y el crecimiento área urbana (%)en los últimos diez años los cuales abarca nuestro estudio.\n",
    "\n",
    "Esta transformación de las variables nos permitirá trabajar con un plano bidimensional en lugar de uno tridimensional que resultaría de usar los valores absolutos de cada uno de los censos y aumentar los años del censo como tercera variable.\n",
    "\n",
    "El DataFrame que construiremos debe contener los siguiente datos por municipio:\n",
    "\n",
    "* Campos para identificar a cada uno de los municipios.\n",
    "* Aumento o disminución de la población en porcentaje con respecto a los datos de 2010.\n",
    "* Aumento o disminución de los áreas urbanas en porcentaje con respecto a los datos de 2010.\n",
    "\n",
    "Está tabla la crearemos dentro de un gestor de base de datos con lenguaje SQL donde nos será mas fácil trabajar con los datos y utilizar datos geográficos dentro de las tablas.\n",
    "\n",
    "##### 2.3.1. Construcción de la tabla en la base de datos para la corroboracion de la hipótesis\n",
    "\n",
    "**Las consultas utilizadas para la creación del DataFrame son las siguientes**\n",
    "\n",
    "/* AGRUPAR LOS DATOS DE ÁREA URBANA POR MUNICIPIO */\n",
    "\n",
    "/* contar el área total urbana por municipio */\n",
    "\n",
    "    SELECT cve_mun, SUM(area_ha) AS areatot_ha FROM area_urb2010\n",
    "    GROUP BY cve_mun ORDER BY cve_mun ASC;\n",
    "\n",
    "    SELECT cve_mun, SUM(area_ha) AS areatot_ha FROM area_urb2020\n",
    "    GROUP BY cve_mun ORDER BY cve_mun ASC;\n",
    "\n",
    "/* CREAR LA TABLA PARA COMPROVAR LA CORELACIÓN */\n",
    "\n",
    "/* calcular la columna de porcentaje de crecimiento poblacional con respecto a 2010*/\n",
    "\n",
    "    ALTER TABLE oax_pobtotmun ADD COLUMN difpob_porc decimal;\n",
    "\n",
    "    UPDATE oax_pobtotmun SET difpob_porc = (pobtot2020-pobtot2010)*100/pobtot2010;\n",
    "\n",
    "    UPDATE oax_pobtotmun SET difpob_porc = TRUNC(difpob_porc,3);\n",
    "\n",
    "    SELECT* FROM oax_pobtotmun;\n",
    "\n",
    "/* crear la tabla que contenga el nuevo dato por municipio para agregar los dos faltates\n",
    "de área urbana y numero de localidades */\n",
    "\n",
    "    CREATE TABLE regredatos_oax AS \n",
    "    SELECT id, geom, cve_mun, nom_mun, difpob_porc FROM oax_pobtotmun;\n",
    "\n",
    "    SELECT * FROM regredatos_oax;\n",
    "\n",
    "/* crear una tabla donde esten las áreas urbanas sumadas por municipio de 2010 */\n",
    "\n",
    "    CREATE TABLE area_urb2010tot AS SELECT cve_mun, SUM(area_ha) AS areatot_ha FROM area_urb2010\n",
    "    GROUP BY cve_mun;\n",
    "\n",
    "    SELECT * FROM area_urb2010tot;\n",
    "\n",
    "/* crear una tabla donde esten las áreas urbanas sumadas por municipio de 2020 */\n",
    "\n",
    "    CREATE TABLE area_urb2020tot AS SELECT cve_mun, SUM(area_ha) AS areatot_ha20 FROM area_urb2020\n",
    "    GROUP BY cve_mun;\n",
    "\n",
    "    SELECT * FROM area_urb2020tot;\n",
    "\n",
    "/* agregar columna de diferencia de área urbana 2010 */\n",
    "\n",
    "    CREATE TABLE regredatos_urb AS SELECT rdo.*, au10.areatot_ha FROM regredatos_oax rdo\n",
    "    INNER JOIN area_urb2010tot au10 ON rdo.cve_mun = au10.cve_mun;\n",
    "\n",
    "    SELECT * FROM  regredatos_urb;\n",
    "\n",
    "/* agregar columna de diferencia de área urbana 2020 */\n",
    "\n",
    "    CREATE TABLE regredatos_urb3 AS SELECT rdo.*, au20.areatot_ha20 FROM regredatos_urb2 rdo\n",
    "    INNER JOIN area_urb2020tot au20 ON rdo.cve_mun = au20.cve_mun;\n",
    "\n",
    "    SELECT * FROM regredatos_urb3;\n",
    "\n",
    "/* calcular la columna de porcentage de crecimiento poblacional con respecto a 2010*/\n",
    "\n",
    "    ALTER TABLE regredatos_urb3 ADD COLUMN difareaurb_porc decimal;\n",
    "\n",
    "    UPDATE regredatos_urb3 SET difareaurb_porc = (areaurb_ha20-areaurb_ha10)*100/areaurb_ha10;\n",
    "\n",
    "    UPDATE regredatos_urb3 SET difareaurb_porc = TRUNC(difareaurb_porc,3);\n",
    "\n",
    "    SELECT* FROM regredatos_urb3 ORDER BY difareaurb_porc ASC;\n",
    "\n",
    "/* crear tabla en limpio para el análisis de la correlación lineal entre variables */\n",
    "\n",
    "    CREATE TABLE regredatos AS\n",
    "    SELECT id, geom, cve_mun, nom_mun, difpob_porc, difareaurb_porc \n",
    "    FROM regredatos_conjunto;\n",
    "\n",
    "    SELECT * FROM regredatos;\n",
    "\n",
    "#### 2.4. Análisis exploratorio de los datos del DataFrame\n",
    "\n",
    "Para poder seguir con nuestro trabajo y que esté sea lo mas fácil posible es indispensable hacer un análisis exploratorio de nuestros datos (EDA). Este es un proceso consiste en entender de mejor manera el comportamiento de nuestros datos, su cuerpo, su distribución y las posibles relaciones entre variables. Dicho análisis se basa en gráficos y estadísticos que permiten explorar la distribución identificando características tales como: valores atípicos o outliers, saltos o discontinuidades, concentraciones de valores, forma de la distribución, etc. \n",
    "\n",
    "Primero llevaremos a caso una selección de únicamente los datos que nos son relevantes para el análisis, y dejaremos fuera campos como nombre del municipio, geometría, etc. que sirven para contextualizar mejor los datos de la tabla, pero no usaremos en este ejercicio.\n",
    "\n",
    "\n",
    "**Crear un DataFrame con los datos que usaremos para el ejercicio**"
   ]
  },
  {
   "cell_type": "code",
   "execution_count": 19,
   "metadata": {},
   "outputs": [],
   "source": [
    "#Creación de un DataFrame que una todas la variables que necesitamos para hacer el análisis de la correlación\n",
    "tablaReg = pd.read_sql_query('''SELECT cve_mun, difpob_porc, difareaurb_porc FROM regredatos''',cnx)\n",
    "\n",
    "#Definimos la variable 'x' y 'y' para nuestro plot\n",
    "vx = pd.read_sql_query('''SELECT difpob_porc FROM regredatos''',cnx)\n",
    "vy = pd.read_sql_query('''SELECT difareaurb_porc FROM regredatos''',cnx)"
   ]
  },
  {
   "cell_type": "code",
   "execution_count": 20,
   "metadata": {},
   "outputs": [
    {
     "data": {
      "text/html": [
       "<div>\n",
       "<style scoped>\n",
       "    .dataframe tbody tr th:only-of-type {\n",
       "        vertical-align: middle;\n",
       "    }\n",
       "\n",
       "    .dataframe tbody tr th {\n",
       "        vertical-align: top;\n",
       "    }\n",
       "\n",
       "    .dataframe thead th {\n",
       "        text-align: right;\n",
       "    }\n",
       "</style>\n",
       "<table border=\"1\" class=\"dataframe\">\n",
       "  <thead>\n",
       "    <tr style=\"text-align: right;\">\n",
       "      <th></th>\n",
       "      <th>cve_mun</th>\n",
       "      <th>difpob_porc</th>\n",
       "      <th>difareaurb_porc</th>\n",
       "    </tr>\n",
       "  </thead>\n",
       "  <tbody>\n",
       "    <tr>\n",
       "      <th>0</th>\n",
       "      <td>021</td>\n",
       "      <td>-1.220</td>\n",
       "      <td>4.523</td>\n",
       "    </tr>\n",
       "    <tr>\n",
       "      <th>1</th>\n",
       "      <td>002</td>\n",
       "      <td>0.628</td>\n",
       "      <td>1.657</td>\n",
       "    </tr>\n",
       "    <tr>\n",
       "      <th>2</th>\n",
       "      <td>278</td>\n",
       "      <td>5.792</td>\n",
       "      <td>-38.189</td>\n",
       "    </tr>\n",
       "    <tr>\n",
       "      <th>3</th>\n",
       "      <td>406</td>\n",
       "      <td>4.299</td>\n",
       "      <td>8.271</td>\n",
       "    </tr>\n",
       "    <tr>\n",
       "      <th>4</th>\n",
       "      <td>184</td>\n",
       "      <td>2.366</td>\n",
       "      <td>0.397</td>\n",
       "    </tr>\n",
       "  </tbody>\n",
       "</table>\n",
       "</div>"
      ],
      "text/plain": [
       "  cve_mun  difpob_porc  difareaurb_porc\n",
       "0     021       -1.220            4.523\n",
       "1     002        0.628            1.657\n",
       "2     278        5.792          -38.189\n",
       "3     406        4.299            8.271\n",
       "4     184        2.366            0.397"
      ]
     },
     "execution_count": 20,
     "metadata": {},
     "output_type": "execute_result"
    }
   ],
   "source": [
    "#Usamos la función head() para ver la estructura de la nueva tabla\n",
    "tablaReg.head()"
   ]
  },
  {
   "cell_type": "markdown",
   "metadata": {},
   "source": [
    "El nuevo cuerpo de datos ahora contiene las dos nuevas variables de las cuales queremos estudiar su relación y una columna que nos permite identificar a cada uno de los registros con su municipio correspondiente. Nos referiremos a está tabla como tabla de correlación a partir de ahora.\n",
    "\n",
    "**Estadística descriptiva de la muestra, cálculo de los valores estadísticos básicos**\n",
    "\n",
    "En el caso de la estadística de análisis descriptivo, este tipo de metodología proporciona un enfoque por el que se confecciona un resumen de información que dan los datos de una muestra. Es decir, su meta es hacer síntesis de la información para arrojar precisión, sencillez y aclarar y ordenar los datos. "
   ]
  },
  {
   "cell_type": "code",
   "execution_count": 21,
   "metadata": {},
   "outputs": [
    {
     "data": {
      "text/html": [
       "<div>\n",
       "<style scoped>\n",
       "    .dataframe tbody tr th:only-of-type {\n",
       "        vertical-align: middle;\n",
       "    }\n",
       "\n",
       "    .dataframe tbody tr th {\n",
       "        vertical-align: top;\n",
       "    }\n",
       "\n",
       "    .dataframe thead th {\n",
       "        text-align: right;\n",
       "    }\n",
       "</style>\n",
       "<table border=\"1\" class=\"dataframe\">\n",
       "  <thead>\n",
       "    <tr style=\"text-align: right;\">\n",
       "      <th></th>\n",
       "      <th>count</th>\n",
       "      <th>mean</th>\n",
       "      <th>std</th>\n",
       "      <th>min</th>\n",
       "      <th>25%</th>\n",
       "      <th>50%</th>\n",
       "      <th>75%</th>\n",
       "      <th>max</th>\n",
       "    </tr>\n",
       "  </thead>\n",
       "  <tbody>\n",
       "    <tr>\n",
       "      <th>difpob_porc</th>\n",
       "      <td>590.0</td>\n",
       "      <td>4.237234</td>\n",
       "      <td>14.153368</td>\n",
       "      <td>-31.545</td>\n",
       "      <td>-3.107</td>\n",
       "      <td>3.1455</td>\n",
       "      <td>10.82375</td>\n",
       "      <td>113.309</td>\n",
       "    </tr>\n",
       "    <tr>\n",
       "      <th>difareaurb_porc</th>\n",
       "      <td>590.0</td>\n",
       "      <td>17.942390</td>\n",
       "      <td>76.253494</td>\n",
       "      <td>-82.875</td>\n",
       "      <td>0.004</td>\n",
       "      <td>3.8030</td>\n",
       "      <td>15.32300</td>\n",
       "      <td>1307.069</td>\n",
       "    </tr>\n",
       "  </tbody>\n",
       "</table>\n",
       "</div>"
      ],
      "text/plain": [
       "                 count       mean        std     min    25%     50%       75%  \\\n",
       "difpob_porc      590.0   4.237234  14.153368 -31.545 -3.107  3.1455  10.82375   \n",
       "difareaurb_porc  590.0  17.942390  76.253494 -82.875  0.004  3.8030  15.32300   \n",
       "\n",
       "                      max  \n",
       "difpob_porc       113.309  \n",
       "difareaurb_porc  1307.069  "
      ]
     },
     "execution_count": 21,
     "metadata": {},
     "output_type": "execute_result"
    }
   ],
   "source": [
    "#Calculo de los valores estadísticos básicos del nuevo DataFrame\n",
    "tablaReg.describe().transpose()"
   ]
  },
  {
   "cell_type": "code",
   "execution_count": 22,
   "metadata": {},
   "outputs": [
    {
     "data": {
      "text/plain": [
       "False"
      ]
     },
     "execution_count": 22,
     "metadata": {},
     "output_type": "execute_result"
    }
   ],
   "source": [
    "#Averiguamos si hay o no valores nulos en nuestro cuerpo de datos.\n",
    "tablaReg.isnull().values.any()"
   ]
  },
  {
   "cell_type": "markdown",
   "metadata": {},
   "source": [
    "En el caso de nuestra nueva tabla hay dos cosas que son particularmente importantes en nuestro cuerpo de datos que debemos analizar: \n",
    "\n",
    "La primera es el hecho de que existan valores nulos dentro de nuestra muestra, en este caso son municipios cuya área urbana no creció nada, aunque normalmente no se suele recomendar trabajar con valores nulos, los de nuestra tabla no son datos faltantes en sí (como demuestra nuestra función **isnull**), si no mas bien datos en donde nuestra variable es igual a 0 por lo qué no es ningún problema que los mantengamos en nuestra muestra. \n",
    "\n",
    "La segunda es que hay una gran diferencia entre el valor máximo y mínimo de nuestras variables y la media, lo que nos indica la posible existencia de valores atípicos en nuestros datos.\n",
    "\n",
    "**Histograma de frecuencias de ambas variables de la taba de correlación**\n",
    "\n",
    "Aunque ya utilizamos esta herramienta antes para visualizar los primeros datos que descargamos en esta ocasión me gustaría explicar cada de los tipos de gráficos que usaremos y sus utilidades, ya que son importantes herramientas durante el EDA.\n",
    "\n",
    "El histograma de frecuencias es un gráfico básico en el análisis visual de los datos, y con el podemos evidenciar comportamientos, observar el grado de homogeneidad, acuerdo o diferencia entre los valores de todas las partes que componen la población o la muestra, o, en contraposición, poder observar el grado de variabilidad, y por ende, la dispersión de todos los valores que toman las partes."
   ]
  },
  {
   "cell_type": "code",
   "execution_count": 23,
   "metadata": {},
   "outputs": [
    {
     "data": {
      "image/png": "[encoded data removed]",
      "text/plain": [
       "<Figure size 1152x360 with 2 Axes>"
      ]
     },
     "metadata": {
      "needs_background": "light"
     },
     "output_type": "display_data"
    }
   ],
   "source": [
    "#Creamos los histogramas para vizualizar los número de localidades rurales de 2010 y 2020 por municipio en Oaxaca\n",
    "#Creamos la figura con el tamaño deseado\n",
    "plt.figure(figsize = (16,5))\n",
    "\n",
    "#Creación del primer subplot\n",
    "plt.subplot(1,2,1)\n",
    "plt.hist(vx, bins=10, color='blue', edgecolor= 'grey')\n",
    "plt.title('Cambio en % de la población por municipio en Oaxaca 2010', font= 'DIN Condensed', fontsize= '16')\n",
    "plt.xlabel('Cambio % poblacion',font= 'DIN Condensed', fontsize= '14')\n",
    "plt.ylabel('Frecuencia', font= 'DIN Condensed', fontsize= '14')\n",
    "\n",
    "#Creación del segundo subplot\n",
    "plt.subplot(1,2,2)\n",
    "plt.hist(vy, bins=10,color='black',edgecolor= 'grey')\n",
    "plt.title('Cambio en % del área urbana(Ha) por municipio en Oaxaca 2010',font= 'DIN Condensed', fontsize= '16')\n",
    "plt.xlabel('Cambio % del área urbana', font= 'DIN Condensed', fontsize= '14')\n",
    "plt.ylabel('Frecuencia', font= 'DIN Condensed', fontsize= '14')\n",
    "\n",
    "plt.show()"
   ]
  },
  {
   "cell_type": "markdown",
   "metadata": {},
   "source": [
    "**Interpretación de los gráficos de distribución**\n",
    "\n",
    "Nuestros nuevos gráficos de distribución siguen estando sesgados a la derecha de la misma forma que lo estaban nuestros datos iniciales, pero la variable de crecimiento de población por municipio en Oaxaca muestra mas normalidad en su distribución.\n",
    "\n",
    "#### 2.5. Detección y eliminación de valores atípicos en nuestra muestra\n",
    "\n",
    "Los valores atípicos pueden ser causados por diversas razones y es deber del investigador averiguar esta información para su muestra. El como lidiar con estos datos dependerá de la pregunta de investigación, la metodología y la decisión subjetiva del investigador.\n",
    "\n",
    "En este caso los outliers no se deben a errores en la captura de los datos, puesto que estos datos ya han sido revisados y corregidos por la fuente original, sin embargo, representan anormalidades en nuestra muestra que seguramente se deben a variables que no contemplamos en este análisis, por ello en este caso decidimos eliminarlos con el fin de que el análisis sea solo con el grueso de los datos que están mas cercanos a la media. Aunque es importante mencionar que está no es una buena manera de lidiar con ellos y lo mejor es probar otras aproximaciones o variables que describan mejor el fenómeno que estamos estudiando.  \n",
    " \n",
    "* Valores atípicos\n",
    "\n",
    "En estadística, un valor atípico (en inglés outlier) es una observación que es numéricamente distante del resto de los datos. Las estadísticas derivadas de los conjuntos de datos que incluyen valores atípicos serán frecuentemente engañosas.\n",
    "\n",
    "* Lidiar con valores atípicos\n",
    "\n",
    "Los outliers o valores atípicos los podemos categorizar en dos grupos, los valores atípicos leves y los valores atipicos extremos. La forma de calcular estos valores es a partir su relación con el valor del primer cuartil (Q1) y el tercer cuartil (Q3) y el rango intercuatílico el cual es la diferencia entre estos dos valores.\n",
    "\n",
    "Rango en el que se encuentran los valores atípicos leves:\n",
    "\n",
    "${min = Q1 - 1.5(RI)}$ \n",
    "    \n",
    "${max = Q3 + 1.5(RI)}$\n",
    "\n",
    "Rango en el que se encuantran los valores atípicos extremos:\n",
    "    \n",
    "${min = Q1 - 3*(RI)}$\n",
    "\n",
    "${max = Q3 + 3*(RI})$\n",
    "\n",
    "Para calcular el RI o rango intercuatílico usaremos la siguiente formula:\n",
    "\n",
    "${RI = Q3 - Q1}$\n",
    "\n",
    "##### 2.5.1. Identificar valores atípicos mediante gráficos\n",
    "\n",
    "Como ya intuíamos mediante los gráficos de frecuencias contamos con varios valores atípicos que pueden afectar a nuestro estudio de forma negativa, por lo que es importante tratar los datos para sacarlos de nuestra muestra. A grandes rasgos hay dos maneras de lidiar con ellos: eliminarlos o cambiar su valor por uno que no se atípico. Nosotros los eliminaremos.\n",
    "\n",
    "Para la identificación de los outliers hay varios tipos de datos que nos sirven, pero los mas usados y los mas comunes son:\n",
    "\n",
    "* Boxplot: Este tipo de gráfico nos permite identificar valores atípicos y comparar distribuciones. Además de conocer de una forma cómoda y rápida como se distribuyen los datos con respecto a la mediana.\n",
    "\n",
    "* Diagrama de dispersión: Un diagrama de dispersión o gráfica de dispersión o gráfico de burbujas es un tipo de diagrama matemático que utiliza las coordenadas cartesianas para mostrar los valores de dos variables para un conjunto de datos, este es utilizado principalmente para visualizar el tipo de relación entre nuestras variables, pero puede ser usado para identificar outliers también.\n",
    "\n",
    "**Boxplot del cambio en % de la población por municipio en Oaxaca respecto al censo de 2010**"
   ]
  },
  {
   "cell_type": "code",
   "execution_count": 24,
   "metadata": {},
   "outputs": [
    {
     "data": {
      "image/png": "[encoded data removed]",
      "text/plain": [
       "<Figure size 1152x288 with 1 Axes>"
      ]
     },
     "metadata": {
      "needs_background": "light"
     },
     "output_type": "display_data"
    }
   ],
   "source": [
    "#Tamaño de la figura\n",
    "plt.figure(figsize=(16,4))\n",
    "\n",
    "#Configuración de los datos del contenido del plot\n",
    "tablaReg.boxplot(vert=False,widths= .5)\n",
    "\n",
    "#Configuración de los títulos, fuentes y marcadores\n",
    "plt.title('Grafico de Boxplot para la analizar distribución de los datos y detectar valores atipicos',font= 'DIN Condensed', fontsize= '18')\n",
    "\n",
    "plt.show()"
   ]
  },
  {
   "cell_type": "markdown",
   "metadata": {},
   "source": [
    "**Interpretación de ambos BoxPlots**\n",
    "\n",
    "Los dos Boxplots nos dejan ver claramente que ambas variables tienen valores atípicos, pero especialmente la de cambio en el porcentaje de área urbana por municipio. Usaremos ahora un diagrama de dispersión para visualizar estos valores atípicos con otra herramienta.\n",
    "\n",
    "**Diagrama de dispersión de la variable cambio % de población y cambio % del área urbana (Ha) respecto al 2010 por municipio en Oaxaca**"
   ]
  },
  {
   "cell_type": "code",
   "execution_count": 25,
   "metadata": {},
   "outputs": [
    {
     "data": {
      "image/png": "[encoded data removed]",
      "text/plain": [
       "<Figure size 1152x576 with 1 Axes>"
      ]
     },
     "metadata": {
      "needs_background": "light"
     },
     "output_type": "display_data"
    }
   ],
   "source": [
    "#Tamaño de la figura\n",
    "plt.figure(figsize=(16,8))\n",
    "\n",
    "#Configuración de los datos del contenido del plot\n",
    "plt.plot(vx, vy,'bo',markersize = '2', alpha= 0.5)\n",
    "\n",
    "#Configuración de los títulos, fuentes y marcadores\n",
    "plt.xlabel('Cambio en % de población',font= 'DIN Condensed', fontsize= '14')\n",
    "plt.ylabel('Cambio en % de area urbana',font= 'DIN Condensed', fontsize= '14')\n",
    "plt.title('Distribución del aumento de la población y cambio de area urbana por municipio en Oaxaca respecto al censo de 2010', font= 'DIN Condensed', fontsize= '18')\n",
    "\n",
    "plt.show()"
   ]
  },
  {
   "cell_type": "markdown",
   "metadata": {},
   "source": [
    "**Interpretación del diagrama de dispersión**\n",
    "\n",
    "En nuestro caso nos este gráfico nos resulta especialmente útil, ya que nos confirma que existen estos valores atípicos en nuestra muestra y además nos deja ver que posiblemente hay una correlación lineal entre nuestras variables, pero solo lo sabremos si eliminamos estos outliers. Para hacer esto seguiremos los pasos de la siguiente sección.\n",
    "\n",
    "##### 2.5.2. Definición de los rangos para eliminar de los outliers del Dataframe"
   ]
  },
  {
   "cell_type": "code",
   "execution_count": 26,
   "metadata": {},
   "outputs": [
    {
     "name": "stdout",
     "output_type": "stream",
     "text": [
      "PobMin:  -24.003124999999997\n",
      "PobMax:  31.719875\n",
      "aUrbMin:  -20.892124999999997\n",
      "aUrbMax: 36.219125\n"
     ]
    }
   ],
   "source": [
    "#Definir las variables para eliminar los outliers\n",
    "\n",
    "#Cuartiles y rango intencuartílico de la variable difpob_porc\n",
    "pobQ1 = tablaReg['difpob_porc'].quantile(0.25)\n",
    "pobQ3 = tablaReg['difpob_porc'].quantile(0.75)\n",
    "pobRI = pobQ3-pobQ1\n",
    "\n",
    "#Definición de las variables que delimitan el rango de para detectar los valores atípicos extremos de difpob_porc\n",
    "pobMinVal = pobQ1-1.5*pobRI\n",
    "pobMaxVal = pobQ3+1.5*pobRI\n",
    "print('PobMin: ',pobMinVal)\n",
    "print('PobMax: ',pobMaxVal)\n",
    "\n",
    "#Cuartiles y rango intencuartilico de la variable difareaurb_porc\n",
    "aUrbQ1 = tablaReg['difareaurb_porc'].quantile(0.25)\n",
    "aUrbQ3 = tablaReg['difareaurb_porc'].quantile(0.75)\n",
    "aUrbRI = pobQ3-pobQ1\n",
    "\n",
    "#Definición de las variables que delimitan el rango de para detectar los valores atípicos extremos de difareaurb_porc\n",
    "aUrbMinVal = aUrbQ1-1.5*aUrbRI\n",
    "aUrbMaxVal = aUrbQ3+1.5*aUrbRI\n",
    "print('aUrbMin: ',aUrbMinVal)\n",
    "print('aUrbMax:', aUrbMaxVal)"
   ]
  },
  {
   "cell_type": "markdown",
   "metadata": {},
   "source": [
    "**Eliminamos los oitliers creando un nuevo Dataframe**"
   ]
  },
  {
   "cell_type": "code",
   "execution_count": 27,
   "metadata": {},
   "outputs": [],
   "source": [
    "#Eliminar los outliners de la nuestro data frame.\n",
    "\n",
    "#Eliminamos los datos que estan en el rango de los valores atípicos leves y extremos del campo de difpob_porc \n",
    "datosReg1 = tablaReg[(tablaReg.difpob_porc>pobMinVal)&(tablaReg.difpob_porc<pobMaxVal)]\n",
    "#Eliminamos los datos que estan en el rango de los valores atípicos leves y extremos del campo de difareaurb_porc\n",
    "datosReg = datosReg1[(datosReg1.difareaurb_porc>aUrbMinVal)&(datosReg1.difareaurb_porc<aUrbMaxVal)]"
   ]
  },
  {
   "cell_type": "markdown",
   "metadata": {},
   "source": [
    "**Calculos de los valores estadísticos descriptivos básicos**"
   ]
  },
  {
   "cell_type": "code",
   "execution_count": 28,
   "metadata": {},
   "outputs": [
    {
     "data": {
      "text/html": [
       "<div>\n",
       "<style scoped>\n",
       "    .dataframe tbody tr th:only-of-type {\n",
       "        vertical-align: middle;\n",
       "    }\n",
       "\n",
       "    .dataframe tbody tr th {\n",
       "        vertical-align: top;\n",
       "    }\n",
       "\n",
       "    .dataframe thead th {\n",
       "        text-align: right;\n",
       "    }\n",
       "</style>\n",
       "<table border=\"1\" class=\"dataframe\">\n",
       "  <thead>\n",
       "    <tr style=\"text-align: right;\">\n",
       "      <th></th>\n",
       "      <th>count</th>\n",
       "      <th>mean</th>\n",
       "      <th>std</th>\n",
       "      <th>min</th>\n",
       "      <th>25%</th>\n",
       "      <th>50%</th>\n",
       "      <th>75%</th>\n",
       "      <th>max</th>\n",
       "    </tr>\n",
       "  </thead>\n",
       "  <tbody>\n",
       "    <tr>\n",
       "      <th>difpob_porc</th>\n",
       "      <td>489.0</td>\n",
       "      <td>3.322736</td>\n",
       "      <td>10.506669</td>\n",
       "      <td>-22.416</td>\n",
       "      <td>-3.053</td>\n",
       "      <td>2.798</td>\n",
       "      <td>10.244</td>\n",
       "      <td>31.667</td>\n",
       "    </tr>\n",
       "    <tr>\n",
       "      <th>difareaurb_porc</th>\n",
       "      <td>489.0</td>\n",
       "      <td>5.818088</td>\n",
       "      <td>9.413755</td>\n",
       "      <td>-20.840</td>\n",
       "      <td>0.002</td>\n",
       "      <td>2.652</td>\n",
       "      <td>9.635</td>\n",
       "      <td>35.221</td>\n",
       "    </tr>\n",
       "  </tbody>\n",
       "</table>\n",
       "</div>"
      ],
      "text/plain": [
       "                 count      mean        std     min    25%    50%     75%  \\\n",
       "difpob_porc      489.0  3.322736  10.506669 -22.416 -3.053  2.798  10.244   \n",
       "difareaurb_porc  489.0  5.818088   9.413755 -20.840  0.002  2.652   9.635   \n",
       "\n",
       "                    max  \n",
       "difpob_porc      31.667  \n",
       "difareaurb_porc  35.221  "
      ]
     },
     "execution_count": 28,
     "metadata": {},
     "output_type": "execute_result"
    }
   ],
   "source": [
    "#Calculamos los valores estadísticos basicos del nuevo DataFrame sin valores atipicos leves y extremos\n",
    "datosReg.describe().transpose()"
   ]
  },
  {
   "cell_type": "markdown",
   "metadata": {},
   "source": [
    "**Interpretación de la nueva muestra de datos**\n",
    "\n",
    "Es evidente que hemos logrado lo que queríamos, podemos observar que la media, los valores máximos y los valores mínimos están mucho mas cerca que antes y ninguno excede el rango que delimitamos para eliminar valores atípicos. Aunque también hemos tenido una reducción de 101 registros.\n",
    "\n",
    "##### 2.5.3. Visualización e interpretación del nuevo cuerpo de datos\n",
    "\n",
    "**Boxplot**"
   ]
  },
  {
   "cell_type": "code",
   "execution_count": 29,
   "metadata": {},
   "outputs": [
    {
     "data": {
      "image/png": "[encoded data removed]",
      "text/plain": [
       "<Figure size 1152x288 with 1 Axes>"
      ]
     },
     "metadata": {
      "needs_background": "light"
     },
     "output_type": "display_data"
    }
   ],
   "source": [
    "#Tamaño de la figura\n",
    "plt.figure(figsize=(16,4))\n",
    "\n",
    "#Configuración de los datos del contenido del plot\n",
    "datosReg.boxplot(vert=False,widths= .5)\n",
    "\n",
    "#Configuración de los titulos, fuentes y marcadores\n",
    "plt.title('Grafico de Boxplot para la analizar distribución de los datos y detectar valores atipicos',font= 'DIN Condensed', fontsize= '18')\n",
    "\n",
    "plt.show()"
   ]
  },
  {
   "cell_type": "markdown",
   "metadata": {},
   "source": [
    "**Interpretación de los Boxplot nuevos**\n",
    "\n",
    "Ambos gráficos nos corroboran que los valores atípicos se han reducido considerablemente y ahora la muestra de datos es muchos mas homogenea que antes.\n",
    "\n",
    "**Histograma de Frecuencias**"
   ]
  },
  {
   "cell_type": "code",
   "execution_count": 30,
   "metadata": {},
   "outputs": [
    {
     "data": {
      "image/png": "[encoded data removed]",
      "text/plain": [
       "<Figure size 1152x360 with 2 Axes>"
      ]
     },
     "metadata": {
      "needs_background": "light"
     },
     "output_type": "display_data"
    }
   ],
   "source": [
    "#Creamos los histogramas para vizualizar los número de localidades rurales de 2010 y 2020 por municipio en Oaxaca\n",
    "#Creamos la figura con el tamaño deseado\n",
    "plt.figure(figsize = (16,5))\n",
    "\n",
    "#Creación del primer subplot\n",
    "plt.subplot(1,2,1)\n",
    "plt.hist(datosReg['difpob_porc'], bins=10, color='blue',edgecolor= 'grey')\n",
    "plt.title('Cambio en % de la población por municipio en Oaxaca 2010', font= 'DIN Condensed', fontsize= '16')\n",
    "plt.xlabel('Cambio % poblacion',font= 'DIN Condensed', fontsize= '14')\n",
    "plt.ylabel('Frecuencia',font= 'DIN Condensed', fontsize= '14')\n",
    "\n",
    "#Creación del segundo subplot\n",
    "plt.subplot(1,2,2)\n",
    "plt.hist(datosReg['difareaurb_porc'], bins=10,color='black',edgecolor= 'grey')\n",
    "plt.title('Cambio en % del área urbana por municipio en Oaxaca 2010', font= 'DIN Condensed', fontsize= '16')\n",
    "plt.xlabel('Cambio % del área urbana',font= 'DIN Condensed', fontsize= '14')\n",
    "plt.ylabel('Frecuencia',font= 'DIN Condensed', fontsize= '14')\n",
    "\n",
    "plt.show()"
   ]
  },
  {
   "cell_type": "markdown",
   "metadata": {},
   "source": [
    "**Interpretación de los nuevos histogramas**\n",
    "\n",
    "También podemos ver que las distribuciones de nuestros datos son mas normales que antes, por lo qué la posibilidad de encontrar un correlación lineal entre nuestras variables es mayor que antes.\n",
    "\n",
    "**Diagrama de dispersión**"
   ]
  },
  {
   "cell_type": "code",
   "execution_count": 31,
   "metadata": {},
   "outputs": [
    {
     "data": {
      "image/png": "[encoded data removed]",
      "text/plain": [
       "<Figure size 1152x576 with 1 Axes>"
      ]
     },
     "metadata": {
      "needs_background": "light"
     },
     "output_type": "display_data"
    }
   ],
   "source": [
    "#Tamaño de la figura\n",
    "plt.figure(figsize=(16,8))\n",
    "\n",
    "#Configuración de los datos del contenido del plot\n",
    "plt.plot(datosReg['difpob_porc'], datosReg['difareaurb_porc'],'bo',markersize = '2', alpha = 0.5)\n",
    "\n",
    "#Configuración de los títulos, fuentes y marcadores\n",
    "plt.xlabel('Cambio en % de población',font= 'DIN Condensed', fontsize= '14')\n",
    "plt.ylabel('Cambio en % de área urbana',font= 'DIN Condensed', fontsize= '14')\n",
    "plt.title('Distribución del aumento de la población y cambio en el área urbana por municipio en Oaxaca respecto al censo de 2010', font= 'DIN Condensed', fontsize= '18')\n",
    "\n",
    "plt.show()"
   ]
  },
  {
   "cell_type": "markdown",
   "metadata": {},
   "source": [
    "**Interpretación de el nuevo diagrama de dispersión**\n",
    "\n",
    "El nuevo diagrama de dispersión no es alentador para nuestra hipótesis ya que los datos se muestran dispersos de tal forma que la posible correlación lineal entre variables será poco explicativa para nuestros datos, sin embargo, esto no lo podemos corroborar hasta no calcular el coeficiente de correlación de Pearson entre ambas variables, y saber de forma exacta que tan linealmente relacionadas están. \n",
    "\n",
    "#### 2.6. Calculo del coeficiente de correlación de Pearson\n",
    "\n",
    "En estadística, el coeficiente de correlación de Pearson es una medida de dependencia lineal entre dos variables aleatorias cuantitativas. A diferencia de la covarianza, la correlación de Pearson es independiente de la escala de medida de las variables.\n",
    "\n",
    "De manera menos formal, podemos definir el coeficiente de correlación de Pearson como un índice que puede utilizarse para medir el grado de relación de dos variables siempre y cuando ambas sean cuantitativas y continuas.\n",
    "\n",
    "\\begin{equation} \n",
    "r = frac{Nsum{XY}-(sum{X}sum{Y})}{sqrt{ [N sum{x^2}-(sum{x})^2 ][N sum{y^2}-(sum{y})^2 }]} \n",
    "\\end{equation}\n",
    "\n",
    "Usaremos la libreria sklearn que nos evita el trabajo de tenerque crear una funcion propia dentro de python."
   ]
  },
  {
   "cell_type": "code",
   "execution_count": 32,
   "metadata": {},
   "outputs": [],
   "source": [
    "#Definimos las variables X, Y para el modelo\n",
    "x = datosReg['difpob_porc']\n",
    "y = datosReg['difareaurb_porc']"
   ]
  },
  {
   "cell_type": "code",
   "execution_count": 33,
   "metadata": {},
   "outputs": [
    {
     "name": "stdout",
     "output_type": "stream",
     "text": [
      "El coeficiente de correlacion de Pearson es:  0.20015350421906608\n"
     ]
    }
   ],
   "source": [
    "#Calculo de coeficiente de correlación lineal\n",
    "corrTest = pearsonr(x, y)\n",
    "print('El coeficiente de correlacion de Pearson es: ',corrTest[0])"
   ]
  },
  {
   "cell_type": "code",
   "execution_count": 34,
   "metadata": {},
   "outputs": [
    {
     "data": {
      "image/png": "[encoded data removed]",
      "text/plain": [
       "<Figure size 432x288 with 4 Axes>"
      ]
     },
     "metadata": {
      "needs_background": "light"
     },
     "output_type": "display_data"
    }
   ],
   "source": [
    "#Visualización de de las variables sus distribuciones y sus dispersiones\n",
    "scatter_matrix(datosReg, alpha=0.5, color= 'black')\n",
    "plt.show()"
   ]
  },
  {
   "cell_type": "markdown",
   "metadata": {},
   "source": [
    "##### 2.6.1 Interpretación de los resultados\n",
    "\n",
    "Debido a que el coeficiente de correlación es muy bajo (0.20 de 1) queda demostrado que la correlación lineal entre datos es muy débil o no existe, incluso habiendo quitado los outliers de nuestro conjunto la correlación entre el porcentaje de crecimiento de la población y el crecimiento del área urbana en nuestro caso de estudio no es lo suficientemente fuerte como para que sea un factor a tomar en cuenta por lo que nuestra hipótesis queda descartada. \n",
    "\n",
    "Aun así, continuaremos con el ejercicio a modo de práctica para crear el modelo que pueda predecir el comportamiento de nuestros datos, pero se debe saber que este modelo no suele ser muy preciso cuando el coeficiente de correlación tiene un valor tan bajo como el obtenido.\n",
    "\n",
    "#### 2.7. Modelo de regresión Lineal\n",
    "\n",
    "Continuando con lo que resta del ejercicio pretenderemos que la correlación lineal entre nuestras variables es lo suficientemente fuerte como para ser un factor a tomar en cuenta, un paso a siguiente sería utilizar un modelo estadístico que nos ayude a reproducir está relación entre variables con el fin de predecir valores.\n",
    "\n",
    "Para esto podemos utilizar la regresión lineal la cual es un método estadístico que trata de modelar la relación entre una variable continua y una o más variables independientes mediante el ajuste de una ecuación lineal. Se llama regresión lineal simple cuando solo hay una variable independiente y regresión lineal múltiple cuando hay más de una. Dependiendo del contexto, a la variable modelada se le conoce como variable dependiente o variable respuesta, y a las variables independientes como regresores, predictores o features.\n",
    "\n",
    "* Regresión lineal simple\n",
    "\n",
    "Este modelo sólo está conformado por dos variables estadísticas llamadas ${\\displaystyle X}$ y ${\\displaystyle Y}$. Para la regresión lineal simple, se asume que ${\\displaystyle X}$ y ${\\displaystyle Y}$ se relacionan mediante la relación funcional\n",
    "\n",
    "\\begin{equation}\n",
    "{Y}_i = {\\beta}_0 + {\\beta}_1 X_i + {\\epsilon}_i\n",
    "\\end{equation}\n",
    "\n",
    "**Variables necesarias para crear el modelo de regresión lineal**"
   ]
  },
  {
   "cell_type": "code",
   "execution_count": 35,
   "metadata": {},
   "outputs": [
    {
     "data": {
      "text/plain": [
       "LinearRegression()"
      ]
     },
     "execution_count": 35,
     "metadata": {},
     "output_type": "execute_result"
    }
   ],
   "source": [
    "#Calculo de las variables necesarias para la función de regresión lineal simple\n",
    "Xarray = np.array(x)\n",
    "Yarray = np.array(y)\n",
    "\n",
    "#Definimos una variable que contenga la función\n",
    "regLineal = LinearRegression()\n",
    "\n",
    "#Instruimos a la regresión lineal que aprenda los datos de x,y. A la variable x debemos aplicarle una trasformación en su forma para que esto funcione\n",
    "regLineal.fit(Xarray.reshape(-1,1),Yarray)"
   ]
  },
  {
   "cell_type": "markdown",
   "metadata": {},
   "source": [
    "**Creamos el modelo e ingresamos nuestras datos dentro para entrenarlo**"
   ]
  },
  {
   "cell_type": "code",
   "execution_count": 36,
   "metadata": {},
   "outputs": [],
   "source": [
    "#Creamos un data set mas pequeño para la implementación y entrenamiento del modelo.abs\n",
    "x_train, x_test, y_train, y_test = train_test_split(Xarray, Yarray, test_size = 1/3)\n",
    "\n",
    "#Aplicamos a los dato de test la función de regresión lineal\n",
    "regLineal.fit(x_train.reshape(-1,1),y_train)\n",
    "\n",
    "#Entrenamiento del modelo de regresión lineal\n",
    "y_pred = regLineal.predict(y_test.reshape(-1,1))\n",
    "\n",
    "#Predecimos los volores a través del entremamiento\n",
    "pred_entrenamiento = regLineal.predict(Xarray.reshape(-1,1))"
   ]
  },
  {
   "cell_type": "code",
   "execution_count": 37,
   "metadata": {},
   "outputs": [
    {
     "name": "stdout",
     "output_type": "stream",
     "text": [
      "Coeficiente de variación = [0.19736662] Intercepto con X = 5.446577869639034\n"
     ]
    }
   ],
   "source": [
    "#Imprimimos el coeficiente y el intecepto de nuestra función de regresión lineal\n",
    "print('Coeficiente de variación = ' + str(regLineal.coef_) + ' Intercepto con X = ' + str(regLineal.intercept_))"
   ]
  },
  {
   "cell_type": "markdown",
   "metadata": {},
   "source": [
    "##### 2.7.1. Calculo del error del modelo de regresión\n",
    "\n",
    "El Error Cuadrático Medio es el criterio de evaluación más usado para problemas de regresión. Se usa sobre todo cuando usamos aprendizaje automático supervisado. Para cada dato histórico podremos indicar el resultado correcto."
   ]
  },
  {
   "cell_type": "code",
   "execution_count": 38,
   "metadata": {},
   "outputs": [
    {
     "name": "stdout",
     "output_type": "stream",
     "text": [
      "Error Cuadrático Medio (MSE) = 85.01126896159943\n",
      "Raíz del Error Cuadrático Medio (RMSE) = 9.220155582288156\n"
     ]
    }
   ],
   "source": [
    "# Calculamos el Error Cuadrático Medio (MSE = Mean Squared Error)\n",
    "mse = mean_squared_error(y_true = y, y_pred = pred_entrenamiento)\n",
    "\n",
    "# La raíz cuadrada del MSE es el RMSE\n",
    "rmse = np.sqrt(mse)\n",
    "print('Error Cuadrático Medio (MSE) = ' + str(mse))\n",
    "print('Raíz del Error Cuadrático Medio (RMSE) = ' + str(rmse))"
   ]
  },
  {
   "cell_type": "markdown",
   "metadata": {},
   "source": [
    "##### 2.7.2. Visualización del modelo de regresión"
   ]
  },
  {
   "cell_type": "code",
   "execution_count": 39,
   "metadata": {},
   "outputs": [
    {
     "data": {
      "image/png": "[encoded data removed]",
      "text/plain": [
       "<Figure size 1152x576 with 1 Axes>"
      ]
     },
     "metadata": {
      "needs_background": "light"
     },
     "output_type": "display_data"
    }
   ],
   "source": [
    "#Tamaño de la figura\n",
    "plt.figure(figsize=(16,8))\n",
    "\n",
    "#Configuración de los datos del contenido del plot\n",
    "plt.plot(datosReg['difpob_porc'], datosReg['difareaurb_porc'],'bo',markersize = '2', alpha = 0.5)\n",
    "\n",
    "#Plot con los datos del modelo ya entrenado para visualizar la recta que dibuja la regresión \n",
    "plt.plot(x_train, regLineal.predict(x_train.reshape(-1,1)), color = \"black\")\n",
    "\n",
    "#Configuración de los títulos, fuentes y marcadores\n",
    "plt.xlabel('Cambio en % de población',font= 'DIN Condensed', fontsize= '14')\n",
    "plt.ylabel('Cambio en % de área urbana',font= 'DIN Condensed', fontsize= '14')\n",
    "plt.title('Distribución del aumento de la población y cambio en el área urbana por municipio en Oaxaca respecto al censo de 2010', font= 'DIN Condensed', fontsize= '18')\n",
    "\n",
    "plt.show()"
   ]
  },
  {
   "cell_type": "markdown",
   "metadata": {},
   "source": [
    "**Interpretación del modelo de regresión lineal**\n",
    "\n",
    "Nuestro modelo de regresión nos arroja un error medio muy alto, cosa que podemos ver en la gráfica de dispersión, la línea que dibuja la función de regresión dista de muchos puntos en el plano. Como ya predecíamos este modelo no nos es útil para predecir el comportamiento de nuestra variable de crecimiento del área urbana.\n",
    "\n",
    "### 3. Conclusiones\n",
    "\n",
    "Finalmente queda demostrado que nuestra hipótesis inicial no es correcta y que el crecimiento de la población no esta relacionado con el crecimiento del área urbana de forma lineal. Esto puede ser porqué ambas variables describen fenomenos tan que se ven afectados por muchos otros factores además de los que analizamos. Sabemos que los fenomenos demográficos de cualquier territorio son siempre complejos y es difícil encontrar con correlaciones que se puedan explicar de forma lineal.\n",
    "\n",
    "También sabemos que el modelo lineal es tal vez la forma mas sencilla en la que se pueden relacionar dos variables y por la tanto es su utilidad tiene limitaciones importantes a la hora describir la realidad, pero este ejercicio nos ha dejado ver como aplicar y desarrollar una investigación desde el análisis cuantitativo y para ello aprendimos la utilidad de algunas herramientas y conceptos de la estadística y sus limitaciones a la hora de ser aplicadas. \n",
    "\n",
    "El que nuestra hipótesis sea negativa invita a explorar nuevas aproximaciones a este problema, por ejemplo, si hubiéramos trabajado a escala nacional ¿Los resultados serian similares? ¿Que otras variables podríamos agregar a nuestro modelo que ayuden a encontrar relaciones mas fuertes? ¿Que pasaría si ampliamos el periodo de tiempo de nuestro estudio? ¿Si no es el crecimiento de la población la que afecta al crecimiento del área urbana por que razones está aunmenta?. Estas preguntas son consecuencia de entender de mejor manera las herramientas de análisis que tenemos disponibles y plantearse otras formas de aproximarse a la cuestión.\n",
    "\n",
    "### 4. Bibliografía\n",
    "\n",
    "* INEGI (2010), [Marco Geoestadístico 2010 versión 4.3 (Censo de Población y Vivienda 2010)\n",
    "]. Recuperado de: https://www.inegi.org.mx/app/biblioteca/ficha.html?upc=702825296520\n",
    "\n",
    "* INEGI (2020), [Marco Geoestadístico. Censo de Población y Vivienda 2020]. Recuperado de: https://www.inegi.org.mx/app/biblioteca/ficha.html?upc=889463807469\n",
    "\n",
    "* INEGI (2010), [Censo de Población y Vivienda 2010]. Recuperado de: https://www.inegi.org.mx/programas/ccpv/2010/\n",
    "\n",
    "* INEGI (2020), [Censo de Población y Vivienda 2020]. Recuperdo de: https://www.inegi.org.mx/programas/ccpv/2020/#Microdatos\n",
    "\n",
    "* Banco Mundial (2019), [Crecimiento de la población urbana (% anual) - México]. Recuperado de: https://datos.bancomundial.org/indicador/SP.URB.GROW?end=2019&locations=MX&start=1961&view=chart\n",
    "\n",
    "* CONAPO (2020), [Indicadores demográficos de la República Mexicana, en el año 2020]. Recuperado de: http://www.conapo.gob.mx/work/models/CONAPO/Mapa_Ind_Dem18/index_2.html\n"
   ]
  }
 ],
 "metadata": {
  "kernelspec": {
   "display_name": "Python 3",
   "language": "python",
   "name": "python3"
  },
  "language_info": {
   "codemirror_mode": {
    "name": "ipython",
    "version": 3
   },
   "file_extension": ".py",
   "mimetype": "text/x-python",
   "name": "python",
   "nbconvert_exporter": "python",
   "pygments_lexer": "ipython3",
   "version": "3.9.1"
  }
 },
 "nbformat": 4,
 "nbformat_minor": 2
}
